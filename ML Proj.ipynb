{
 "cells": [
  {
   "cell_type": "markdown",
   "id": "75ef8520",
   "metadata": {},
   "source": [
    "### Network machine learning"
   ]
  },
  {
   "cell_type": "markdown",
   "id": "19cc1b44",
   "metadata": {},
   "source": [
    "I thought of two diffrent machine learning problems for this PPI dataset. One of edge prediction using the given features and labels and one of multi-label classification given the features. I decided to tackle the multilable classification problem since it is one I haven't done before and thought it might be fun!\n",
    "\n",
    "The simplest method for this problem seems to be binary relevance (BR), BR is what multiclass uses and is one of the more common performance benchmarks. BR assumes independence, so there are a number of ideas about modifying BR to account for label dependence. This involves creating a classifier for each label. There are however methods which do not ignore relationships between labels and this is what i will consider here.\n",
    "\n",
    "As a note there is also the posssibility to transform the problem into a label powerset problem. Label Powerset is a problem transformation approach to multi-label classification that transforms a multi-label problem to a multi-class problem with 1 multi-class classifier trained on all unique label combinations found in the training data.The method maps each combination to a unique combination id number, and performs multi-class classification using the classifier as multi-class classifier and combination ids as classes. This would be a good idea if the number of classes is not very large since 2^{number of labels}."
   ]
  },
  {
   "cell_type": "code",
   "execution_count": 50,
   "id": "a2f85d34",
   "metadata": {},
   "outputs": [],
   "source": [
    "import numpy as np\n",
    "import pandas as pd\n",
    "import seaborn as sn\n",
    "import json\n",
    "import pickle\n",
    "import networkx as nx\n",
    "import matplotlib.pyplot as plt\n",
    "from scipy import sparse"
   ]
  },
  {
   "cell_type": "code",
   "execution_count": 3,
   "id": "db8347a4",
   "metadata": {},
   "outputs": [],
   "source": [
    "def read_gph(fname):\n",
    "    # reads a graph from json file\n",
    "    H = json.load(open(fname, 'r'))\n",
    "    G = nx.readwrite.json_graph.node_link_graph(H)\n",
    "    print(fname.replace('/','_').split('_')[1] + ' set') # printing set info\n",
    "    print('N: %d E: %d' % (G.number_of_nodes(), G.number_of_edges()))      \n",
    "    return G"
   ]
  },
  {
   "cell_type": "markdown",
   "id": "4ed4a6ef",
   "metadata": {},
   "source": [
    "### Loading all the given PPI data\n",
    "\n",
    "first some data pre-processing"
   ]
  },
  {
   "cell_type": "code",
   "execution_count": 4,
   "id": "f3c6c0eb",
   "metadata": {},
   "outputs": [
    {
     "name": "stdout",
     "output_type": "stream",
     "text": [
      "train set\n",
      "N: 44906 E: 1271274\n",
      "test set\n",
      "N: 5524 E: 167500\n",
      "valid set\n",
      "N: 6514 E: 205434\n"
     ]
    }
   ],
   "source": [
    "# Train data\n",
    "train_feats = np.load('ppi/train_feats.npy')\n",
    "train_labels = np.load('ppi/train_labels.npy')\n",
    "train_graph_id = np.load('ppi/train_graph_id.npy')\n",
    "train_graph = read_gph('ppi/train_graph.json')\n",
    "\n",
    "# Test data\n",
    "test_feats = np.load('ppi/test_feats.npy')\n",
    "test_labels = np.load('ppi/test_labels.npy')\n",
    "test_graph_id = np.load('ppi/test_graph_id.npy')\n",
    "test_graph = read_gph('ppi/test_graph.json')\n",
    "\n",
    "# Valid data\n",
    "val_feats = np.load('ppi/valid_feats.npy')\n",
    "val_labels = np.load('ppi/valid_labels.npy')\n",
    "val_graph_id = np.load('ppi/valid_graph_id.npy')\n",
    "val_graph = read_gph('ppi/valid_graph.json')"
   ]
  },
  {
   "cell_type": "markdown",
   "id": "fb157184",
   "metadata": {},
   "source": [
    "### Information and multilable statistics of the data set"
   ]
  },
  {
   "cell_type": "markdown",
   "id": "31e96e9e",
   "metadata": {},
   "source": [
    "The cardinality of a dataset is the mean number of labels per example and label density takes into consideration the number of labels in the label space (cardinality divided by the number of labels). \n",
    "\n",
    "ref: $\\textit{CARDINALITY AND DENSITY MEASURES AND THEIR INFLUENCE TO MULTI-LABEL LEARNING METHODS, Bernardini et al.}$"
   ]
  },
  {
   "cell_type": "code",
   "execution_count": 10,
   "id": "cf242b8d",
   "metadata": {},
   "outputs": [
    {
     "data": {
      "text/html": [
       "<div>\n",
       "<style scoped>\n",
       "    .dataframe tbody tr th:only-of-type {\n",
       "        vertical-align: middle;\n",
       "    }\n",
       "\n",
       "    .dataframe tbody tr th {\n",
       "        vertical-align: top;\n",
       "    }\n",
       "\n",
       "    .dataframe thead th {\n",
       "        text-align: right;\n",
       "    }\n",
       "</style>\n",
       "<table border=\"1\" class=\"dataframe\">\n",
       "  <thead>\n",
       "    <tr style=\"text-align: right;\">\n",
       "      <th></th>\n",
       "      <th>Examples in train set</th>\n",
       "      <th>Examples in test set</th>\n",
       "      <th>Examples in val set</th>\n",
       "      <th>Features</th>\n",
       "      <th>Labels</th>\n",
       "      <th>Label cardinality</th>\n",
       "      <th>Label density</th>\n",
       "    </tr>\n",
       "  </thead>\n",
       "  <tbody>\n",
       "    <tr>\n",
       "      <th>PPI Data</th>\n",
       "      <td>44906</td>\n",
       "      <td>5524</td>\n",
       "      <td>6514</td>\n",
       "      <td>50</td>\n",
       "      <td>121</td>\n",
       "      <td>37.19984</td>\n",
       "      <td>0.307437</td>\n",
       "    </tr>\n",
       "  </tbody>\n",
       "</table>\n",
       "</div>"
      ],
      "text/plain": [
       "          Examples in train set  Examples in test set  Examples in val set  \\\n",
       "PPI Data                  44906                  5524                 6514   \n",
       "\n",
       "          Features  Labels  Label cardinality  Label density  \n",
       "PPI Data        50     121           37.19984       0.307437  "
      ]
     },
     "execution_count": 10,
     "metadata": {},
     "output_type": "execute_result"
    }
   ],
   "source": [
    "table_data = {'Examples in train set': train_feats.shape[0], 'Examples in test set': test_feats.shape[0],'Examples in val set':val_feats.shape[0],'Features':val_feats.shape[1], 'Labels':val_labels.shape[1], 'Label cardinality':np.sum(train_labels)/train_feats.shape[0] , 'Label density':(np.sum(train_labels)/val_labels.shape[1])/train_feats.shape[0] }\n",
    "pd.DataFrame(data = table_data,index=['PPI Data'])"
   ]
  },
  {
   "cell_type": "markdown",
   "id": "8a74400f",
   "metadata": {},
   "source": [
    "I decided to check the cardinalty to confirm wheather it was a sparce multilable problem. This is not the case since the average number of labels for each example is $\\approx$37 which means it is not sparse. The label density is also not very low which is good news (I have seen lower!).\n",
    "\n",
    "Next it is good idea to check the actual label distirbution in the data i.e. is there a 'label' imbalance. Does one subset of labels occur much more often than another one?"
   ]
  },
  {
   "cell_type": "code",
   "execution_count": 11,
   "id": "4759f7e6",
   "metadata": {},
   "outputs": [
    {
     "data": {
      "image/png": "[encoded data removed]",
      "text/plain": [
       "<Figure size 720x576 with 1 Axes>"
      ]
     },
     "metadata": {
      "needs_background": "light"
     },
     "output_type": "display_data"
    }
   ],
   "source": [
    "plt.figure(figsize=(10, 8))\n",
    "plt.bar(np.arange(1,train_labels.shape[1]+1),sum(train_labels))\n",
    "plt.title('Label distribution in training set')\n",
    "plt.ylabel('# of instances')\n",
    "plt.xlabel('Label')\n",
    "plt.show()"
   ]
  },
  {
   "cell_type": "markdown",
   "id": "c47961f1",
   "metadata": {},
   "source": [
    "Clearly there is a label imbalance, one label occurs for example nearly 40k times while another only occurs about 4k times. This problem can be tackled by biasing the model to the labels that occur least often.\n",
    "\n",
    "Th label space is very large here at 121 labels so we can look at some correlations between labels to reduce the label space if possible."
   ]
  },
  {
   "cell_type": "code",
   "execution_count": 12,
   "id": "e3c38312",
   "metadata": {
    "scrolled": false
   },
   "outputs": [
    {
     "name": "stdout",
     "output_type": "stream",
     "text": [
      "[  6  18  21  26  30  39  46  47  48  49  50  53  54  55  59  60  61  63\n",
      "  65  69  70  71  72  74  76  77  78  79  80  82  86  89  92  93  94  97\n",
      "  98  99 101 103 104 108 111 112 113 114 115 119 120]\n"
     ]
    }
   ],
   "source": [
    "# Return pearson correlation coefficients \n",
    "corr = np.absolute(np.corrcoef(train_labels.T))\n",
    "corr_upper = np.triu(corr, k=1)\n",
    "inx = np.where(corr_upper >= 0.9)\n",
    "inx_tuple = np.vstack((inx[0], inx[1])).T # as pairs\n",
    "inx_unique = np.unique(inx[1]) # indices to remove \n",
    "print(inx_unique)"
   ]
  },
  {
   "cell_type": "markdown",
   "id": "b987e386",
   "metadata": {},
   "source": [
    "The array above gives the index location of which labels to remove."
   ]
  },
  {
   "cell_type": "code",
   "execution_count": 13,
   "id": "be48e2a8",
   "metadata": {},
   "outputs": [
    {
     "name": "stdout",
     "output_type": "stream",
     "text": [
      "Original dim of label space:  121\n",
      "Dim of reduced label space:  72\n"
     ]
    }
   ],
   "source": [
    "example = train_labels[0,:]\n",
    "print('Original dim of label space: ', len(example))\n",
    "reduced_example = [val for n, val in enumerate(example) if n not in inx_unique]\n",
    "dim_red_label = len(reduced_example)\n",
    "print('Dim of reduced label space: ', dim_red_label)"
   ]
  },
  {
   "cell_type": "code",
   "execution_count": 14,
   "id": "b3ad0e11",
   "metadata": {},
   "outputs": [],
   "source": [
    "# Doing this for all the data\n",
    "\n",
    "# train data\n",
    "reduced_train_labels = np.zeros((train_labels.shape[0],dim_red_label))\n",
    "for each in range(0,train_labels.shape[0]):\n",
    "    reduced_train_labels[each,:] = [val for n, val in enumerate(train_labels[each,:]) if n not in inx_unique]\n",
    "\n",
    "# test data\n",
    "reduced_test_labels = np.zeros((test_labels.shape[0],dim_red_label))\n",
    "for each in range(0,test_labels.shape[0]):\n",
    "    reduced_test_labels[each,:] = [val for n, val in enumerate(test_labels[each,:]) if n not in inx_unique]\n",
    "\n",
    "# val data\n",
    "reduced_val_labels = np.zeros((val_labels.shape[0],dim_red_label))\n",
    "for each in range(0,val_labels.shape[0]):\n",
    "    reduced_val_labels[each,:] = [val for n, val in enumerate(val_labels[each,:]) if n not in inx_unique]"
   ]
  },
  {
   "cell_type": "code",
   "execution_count": 15,
   "id": "c0932ec3",
   "metadata": {},
   "outputs": [
    {
     "data": {
      "image/png": "[encoded data removed]",
      "text/plain": [
       "<Figure size 720x576 with 1 Axes>"
      ]
     },
     "metadata": {
      "needs_background": "light"
     },
     "output_type": "display_data"
    }
   ],
   "source": [
    "plt.figure(figsize=(10, 8))\n",
    "plt.bar(np.arange(1,reduced_train_labels.shape[1]+1),sum(reduced_train_labels))\n",
    "plt.title('Reduced label distribution in training set')\n",
    "plt.ylabel('# of instances')\n",
    "plt.xlabel('Label')\n",
    "plt.show()"
   ]
  },
  {
   "cell_type": "markdown",
   "id": "497f7055",
   "metadata": {},
   "source": [
    "Seems like we still have the label imbalance problem! We can deal with this using weights in our model later."
   ]
  },
  {
   "cell_type": "markdown",
   "id": "6b5ec3fa",
   "metadata": {},
   "source": [
    "The number of features is not very large here at 50 features (some of which may be much less useful) so i thought it might be fun to generate more features to add onto the given 50 and then carry out a feature reduction. This is to account for the fact that the given features may not take into account the graph architecture and so we can generate more features from the graph which may be very useful for classification. To generate more features, we can use node2vec. Node2vec is the most widely used method for node embedding. The node2vec framework learns low-dimensional representations for nodes in a graph by optimizing a neighborhood preserving objective. The objective is flexible, and the algorithm accomodates for various definitions of network neighborhoods by simulating biased random walks.\n",
    "\n",
    "ref: $\\textit{node2vec: Scalable Feature Learning for Networks, Grover et al.}$\n",
    "\n",
    "Since our graphs are very large (over 1 million edges!), I cant really use the normal node2vec implemention since it would take an extremely long time on my machine (quite bad time complexity). I found a parallelized and faster implemntation of node2vec called PecanPy. Details are in the paper. \n",
    "\n",
    "ref: $\\textit{PecanPy: a fast, efficient and parallelized Python implementation of node2vec, Liu et al.}$\n",
    "\n",
    "https://github.com/krishnanlab/PecanPy"
   ]
  },
  {
   "cell_type": "code",
   "execution_count": 240,
   "id": "b88a74dd",
   "metadata": {
    "scrolled": true
   },
   "outputs": [],
   "source": [
    "# !pip install llvmlite --ignore-installed might need to run this first \n",
    "# !pip install pecanpy  careful it might downgrade numba and Cython \n",
    "from pecanpy import node2vec\n",
    "\n",
    "# requiremnets :\n",
    "# gensim >= 3.8.0\n",
    "# numpy >= 1.17.4\n",
    "# numba >= 0.46.0"
   ]
  },
  {
   "cell_type": "code",
   "execution_count": 154,
   "id": "2d338ee5",
   "metadata": {},
   "outputs": [],
   "source": [
    "# To use this implementation it is recomebede to use an edge list file for the graph so i decided to save the graph in \n",
    "# that format not to spend time wrapping the function.\n",
    "\n",
    "nx.write_edgelist(test_graph, \"test_graph.edg\", delimiter=\"\\t\", data=False)\n",
    "nx.write_edgelist(train_graph, \"train_graph.edg\", delimiter=\"\\t\", data=False)\n",
    "nx.write_edgelist(val_graph, \"val_graph.edg\", delimiter=\"\\t\", data=False)"
   ]
  },
  {
   "cell_type": "code",
   "execution_count": 237,
   "id": "21240903",
   "metadata": {},
   "outputs": [
    {
     "name": "stdout",
     "output_type": "stream",
     "text": [
      "Generating training data embeddings\n",
      "100%|█████████████████████████████████████████████████████████████████████| 449060.0/449060 [00:04<00:00, 93788.81it/s]\n"
     ]
    }
   ],
   "source": [
    "# initialize node2vec object\n",
    "train_g = node2vec.PreComp(p=0.5, q=1, workers=4, verbose=True)\n",
    "\n",
    "# load graph from edgelist file\n",
    "train_g.read_edg(\"train_graph.edg\", weighted=False, directed=True)\n",
    "\n",
    "# precompute and save 2nd order transition probs\n",
    "train_g.preprocess_transition_probs()\n",
    "\n",
    "print('Generating training data embeddings')\n",
    "\n",
    "#generate the embeddings directly , default dim= 128\n",
    "train_emd = train_g.embed()\n",
    "\n",
    "# save embedding matrix \n",
    "np.save( 'train_emd.npy',train_emd)"
   ]
  },
  {
   "cell_type": "code",
   "execution_count": 238,
   "id": "58336b9f",
   "metadata": {},
   "outputs": [
    {
     "name": "stdout",
     "output_type": "stream",
     "text": [
      "Generating test data embeddings\n",
      "100%|███████████████████████████████████████████████████████████████████████| 55240.0/55240 [00:04<00:00, 13124.21it/s]\n"
     ]
    }
   ],
   "source": [
    "# initialize node2vec object\n",
    "test_g = node2vec.PreComp(p=0.5, q=1, workers=4, verbose=True)\n",
    "\n",
    "# load graph from edgelist file\n",
    "test_g.read_edg(\"test_graph.edg\", weighted=False, directed=True)\n",
    "\n",
    "# precompute and save 2nd order transition probs\n",
    "test_g.preprocess_transition_probs()\n",
    "\n",
    "print('Generating test data embeddings')\n",
    "#generate the embeddings directly \n",
    "test_emd = test_g.embed()\n",
    "\n",
    "# save embedding matrix \n",
    "np.save( 'test_emd.npy',test_emd)"
   ]
  },
  {
   "cell_type": "code",
   "execution_count": 239,
   "id": "fa2deb88",
   "metadata": {},
   "outputs": [
    {
     "name": "stdout",
     "output_type": "stream",
     "text": [
      "Generating val data embeddings\n",
      "100%|███████████████████████████████████████████████████████████████████████| 65140.0/65140 [00:03<00:00, 18101.03it/s]\n"
     ]
    }
   ],
   "source": [
    "# initialize node2vec object\n",
    "val_g = node2vec.PreComp(p=0.5, q=1, workers=4, verbose=True)\n",
    "\n",
    "# load graph from edgelist file\n",
    "val_g.read_edg(\"val_graph.edg\", weighted=False, directed=True)\n",
    "\n",
    "# precompute and save 2nd order transition probs\n",
    "val_g.preprocess_transition_probs()\n",
    "\n",
    "print('Generating val data embeddings')\n",
    "#generate the embeddings directly \n",
    "val_emd = val_g.embed()\n",
    "\n",
    "# save embedding matrix \n",
    "np.save( 'val_emd.npy',val_emd)"
   ]
  },
  {
   "cell_type": "markdown",
   "id": "2b710b65",
   "metadata": {},
   "source": [
    "Now that we have the embeddings from node2vec we can append them with the given 50 features to have a total of 178 features. Now it would be a good idea to reduce the dimentionality of the feature space, using MLLDA (multi label linear discriminant analysis) or PLS (Partial Least Squares) but as a result not wanting to spend more than the recomended time I will just use simple PCA. I would be very fun to implement the various techniques outlined in the following paper $\\textit{A review on dimensionality reduction for multi-label classification, Siblini et al.}$"
   ]
  },
  {
   "cell_type": "code",
   "execution_count": 5,
   "id": "d423f97e",
   "metadata": {},
   "outputs": [],
   "source": [
    "# concatenating given and calculated features\n",
    "train_emd = np.load('train_emd.npy')\n",
    "test_emd = np.load('test_emd.npy')\n",
    "val_emd = np.load('val_emd.npy')\n",
    "\n",
    "extended_train_feats = np.concatenate((train_feats,train_emd),axis = 1)\n",
    "extended_test_feats = np.concatenate((test_feats,test_emd),axis = 1)\n",
    "extended_val_feats = np.concatenate((val_feats,val_emd),axis = 1)"
   ]
  },
  {
   "cell_type": "code",
   "execution_count": 6,
   "id": "fa05673d",
   "metadata": {},
   "outputs": [],
   "source": [
    "from sklearn.decomposition import PCA\n",
    "\n",
    "pca_scree = PCA(n_components=extended_train_feats.shape[1])\n",
    "pca_fit  = pca_scree.fit(extended_train_feats)"
   ]
  },
  {
   "cell_type": "code",
   "execution_count": 7,
   "id": "2eb0b7a9",
   "metadata": {},
   "outputs": [
    {
     "data": {
      "image/png": "[encoded data removed]",
      "text/plain": [
       "<Figure size 720x576 with 1 Axes>"
      ]
     },
     "metadata": {
      "needs_background": "light"
     },
     "output_type": "display_data"
    }
   ],
   "source": [
    "plt.figure(figsize=(10, 8))\n",
    "PC_values = np.arange(pca_scree.n_components_) + 1\n",
    "plt.plot(PC_values, pca_scree.explained_variance_ratio_, '--')\n",
    "plt.title('Scree Plot')\n",
    "plt.xlabel('Principal Component')\n",
    "plt.ylabel('Percentage of total variance')\n",
    "plt.show()"
   ]
  },
  {
   "cell_type": "markdown",
   "id": "0d9fd3d7",
   "metadata": {},
   "source": [
    "According to the scree plot above, we can choose 70 pricipal components. This then gives the new (and hopefully better) new set of data."
   ]
  },
  {
   "cell_type": "code",
   "execution_count": 36,
   "id": "fe6717c3",
   "metadata": {},
   "outputs": [],
   "source": [
    "pca = PCA(n_components=70)\n",
    "reduced_train_feats_PCA  = pca.fit_transform(extended_train_feats)\n",
    "reduced_val_feats_PCA  = pca.transform(extended_val_feats)\n",
    "reduced_test_feats_PCA  = pca.transform(extended_test_feats)"
   ]
  },
  {
   "cell_type": "code",
   "execution_count": 16,
   "id": "75fb795b",
   "metadata": {},
   "outputs": [
    {
     "data": {
      "text/html": [
       "<div>\n",
       "<style scoped>\n",
       "    .dataframe tbody tr th:only-of-type {\n",
       "        vertical-align: middle;\n",
       "    }\n",
       "\n",
       "    .dataframe tbody tr th {\n",
       "        vertical-align: top;\n",
       "    }\n",
       "\n",
       "    .dataframe thead th {\n",
       "        text-align: right;\n",
       "    }\n",
       "</style>\n",
       "<table border=\"1\" class=\"dataframe\">\n",
       "  <thead>\n",
       "    <tr style=\"text-align: right;\">\n",
       "      <th></th>\n",
       "      <th>Examples in train set</th>\n",
       "      <th>Examples in test set</th>\n",
       "      <th>Examples in val set</th>\n",
       "      <th>Features</th>\n",
       "      <th>Labels</th>\n",
       "      <th>Label cardinality</th>\n",
       "      <th>Label density</th>\n",
       "    </tr>\n",
       "  </thead>\n",
       "  <tbody>\n",
       "    <tr>\n",
       "      <th>Modified PPI Data</th>\n",
       "      <td>44906</td>\n",
       "      <td>5524</td>\n",
       "      <td>6514</td>\n",
       "      <td>70</td>\n",
       "      <td>72</td>\n",
       "      <td>22.655258</td>\n",
       "      <td>0.314656</td>\n",
       "    </tr>\n",
       "  </tbody>\n",
       "</table>\n",
       "</div>"
      ],
      "text/plain": [
       "                    Examples in train set  Examples in test set  \\\n",
       " Modified PPI Data                  44906                  5524   \n",
       "\n",
       "                    Examples in val set  Features  Labels  Label cardinality  \\\n",
       " Modified PPI Data                 6514        70      72          22.655258   \n",
       "\n",
       "                    Label density  \n",
       " Modified PPI Data       0.314656  "
      ]
     },
     "execution_count": 16,
     "metadata": {},
     "output_type": "execute_result"
    }
   ],
   "source": [
    "table_reduced_data = {'Examples in train set': reduced_train_feats_PCA.shape[0], 'Examples in test set': test_feats.shape[0],'Examples in val set':reduced_val_feats_PCA.shape[0],'Features':reduced_train_feats_PCA.shape[1], 'Labels':reduced_train_labels.shape[1], 'Label cardinality':np.sum(reduced_train_labels)/reduced_train_feats_PCA.shape[0] , 'Label density':(np.sum(reduced_train_labels)/reduced_train_labels.shape[1])/reduced_train_feats_PCA.shape[0] }\n",
    "pd.DataFrame(data = table_reduced_data,index=[' Modified PPI Data'])"
   ]
  },
  {
   "cell_type": "markdown",
   "id": "8c2de8d9",
   "metadata": {},
   "source": [
    "The label cardinality has decreased and the label density has increased very slightly. There does not seem to be any issues from the modification."
   ]
  },
  {
   "cell_type": "markdown",
   "id": "a4e779c6",
   "metadata": {},
   "source": [
    "### Implementing ML"
   ]
  },
  {
   "cell_type": "markdown",
   "id": "13355912",
   "metadata": {},
   "source": [
    "There are open source implementations of methods for multi-label learning and evaluation such as MEKA and MULAN - the reference standard in the field. Both of these are not native to python and so to save time i have found a python library called scikit-multilearn which provides a wrapper and its own implementations."
   ]
  },
  {
   "cell_type": "code",
   "execution_count": 17,
   "id": "091790b6",
   "metadata": {},
   "outputs": [],
   "source": [
    "# !pip install scikit-multilearn\n",
    "\n",
    "# requirments:\n",
    "# whichcraft==0.4.1\n",
    "#scipy==1.1.0\n",
    "#numpy>=1.15.1\n",
    "#liac-arff==2.2.1\n",
    "#networkx==2.1\n",
    "#python-louvain==0.11\n",
    "#future>=0.16.0\n",
    "#scikit_learn>=0.19.2\n",
    "#requests>=2.18.4"
   ]
  },
  {
   "cell_type": "markdown",
   "id": "9b2969a5",
   "metadata": {},
   "source": [
    "I know the method I am doing for hyper-paramer tuning is sacrilegious since i am using only the validation set for hyper parameter tuning (normally i would train the models with training data and test on vaidation data for paramter tuning) but due to time and computational limitations i am not able to carry this out fully."
   ]
  },
  {
   "cell_type": "markdown",
   "id": "fb613f5b",
   "metadata": {},
   "source": [
    "#### Binary Relevance logistic regression classifier with hyper-parameter estimation using val data\n",
    "\n",
    "Transforms a multi-label classification problem with L labels into L single-label separate binary classification problems using the same base classifier provided in the constructor. The prediction output is the union of all per label classifiers.\n",
    "\n",
    "Here I test a simple (l2) logistic regression and a SVC. This method ignores relationships between labels."
   ]
  },
  {
   "cell_type": "code",
   "execution_count": null,
   "id": "74be718c",
   "metadata": {},
   "outputs": [
    {
     "name": "stderr",
     "output_type": "stream",
     "text": [
      "C:\\Users\\Nayef\\anaconda3\\lib\\site-packages\\sklearn\\linear_model\\_logistic.py:818: ConvergenceWarning: lbfgs failed to converge (status=1):\n",
      "STOP: TOTAL NO. of ITERATIONS REACHED LIMIT.\n",
      "\n",
      "Increase the number of iterations (max_iter) or scale the data as shown in:\n",
      "    https://scikit-learn.org/stable/modules/preprocessing.html\n",
      "Please also refer to the documentation for alternative solver options:\n",
      "    https://scikit-learn.org/stable/modules/linear_model.html#logistic-regression\n",
      "  extra_warning_msg=_LOGISTIC_SOLVER_CONVERGENCE_MSG,\n",
      "C:\\Users\\Nayef\\anaconda3\\lib\\site-packages\\sklearn\\linear_model\\_logistic.py:818: ConvergenceWarning: lbfgs failed to converge (status=1):\n",
      "STOP: TOTAL NO. of ITERATIONS REACHED LIMIT.\n",
      "\n",
      "Increase the number of iterations (max_iter) or scale the data as shown in:\n",
      "    https://scikit-learn.org/stable/modules/preprocessing.html\n",
      "Please also refer to the documentation for alternative solver options:\n",
      "    https://scikit-learn.org/stable/modules/linear_model.html#logistic-regression\n",
      "  extra_warning_msg=_LOGISTIC_SOLVER_CONVERGENCE_MSG,\n",
      "C:\\Users\\Nayef\\anaconda3\\lib\\site-packages\\sklearn\\linear_model\\_logistic.py:818: ConvergenceWarning: lbfgs failed to converge (status=1):\n",
      "STOP: TOTAL NO. of ITERATIONS REACHED LIMIT.\n",
      "\n",
      "Increase the number of iterations (max_iter) or scale the data as shown in:\n",
      "    https://scikit-learn.org/stable/modules/preprocessing.html\n",
      "Please also refer to the documentation for alternative solver options:\n",
      "    https://scikit-learn.org/stable/modules/linear_model.html#logistic-regression\n",
      "  extra_warning_msg=_LOGISTIC_SOLVER_CONVERGENCE_MSG,\n",
      "C:\\Users\\Nayef\\anaconda3\\lib\\site-packages\\sklearn\\linear_model\\_logistic.py:818: ConvergenceWarning: lbfgs failed to converge (status=1):\n",
      "STOP: TOTAL NO. of ITERATIONS REACHED LIMIT.\n",
      "\n",
      "Increase the number of iterations (max_iter) or scale the data as shown in:\n",
      "    https://scikit-learn.org/stable/modules/preprocessing.html\n",
      "Please also refer to the documentation for alternative solver options:\n",
      "    https://scikit-learn.org/stable/modules/linear_model.html#logistic-regression\n",
      "  extra_warning_msg=_LOGISTIC_SOLVER_CONVERGENCE_MSG,\n",
      "C:\\Users\\Nayef\\anaconda3\\lib\\site-packages\\sklearn\\linear_model\\_logistic.py:818: ConvergenceWarning: lbfgs failed to converge (status=1):\n",
      "STOP: TOTAL NO. of ITERATIONS REACHED LIMIT.\n",
      "\n",
      "Increase the number of iterations (max_iter) or scale the data as shown in:\n",
      "    https://scikit-learn.org/stable/modules/preprocessing.html\n",
      "Please also refer to the documentation for alternative solver options:\n",
      "    https://scikit-learn.org/stable/modules/linear_model.html#logistic-regression\n",
      "  extra_warning_msg=_LOGISTIC_SOLVER_CONVERGENCE_MSG,\n",
      "C:\\Users\\Nayef\\anaconda3\\lib\\site-packages\\sklearn\\linear_model\\_logistic.py:818: ConvergenceWarning: lbfgs failed to converge (status=1):\n",
      "STOP: TOTAL NO. of ITERATIONS REACHED LIMIT.\n",
      "\n",
      "Increase the number of iterations (max_iter) or scale the data as shown in:\n",
      "    https://scikit-learn.org/stable/modules/preprocessing.html\n",
      "Please also refer to the documentation for alternative solver options:\n",
      "    https://scikit-learn.org/stable/modules/linear_model.html#logistic-regression\n",
      "  extra_warning_msg=_LOGISTIC_SOLVER_CONVERGENCE_MSG,\n",
      "C:\\Users\\Nayef\\anaconda3\\lib\\site-packages\\sklearn\\linear_model\\_logistic.py:818: ConvergenceWarning: lbfgs failed to converge (status=1):\n",
      "STOP: TOTAL NO. of ITERATIONS REACHED LIMIT.\n",
      "\n",
      "Increase the number of iterations (max_iter) or scale the data as shown in:\n",
      "    https://scikit-learn.org/stable/modules/preprocessing.html\n",
      "Please also refer to the documentation for alternative solver options:\n",
      "    https://scikit-learn.org/stable/modules/linear_model.html#logistic-regression\n",
      "  extra_warning_msg=_LOGISTIC_SOLVER_CONVERGENCE_MSG,\n"
     ]
    }
   ],
   "source": [
    "from skmultilearn.problem_transform import BinaryRelevance\n",
    "from sklearn.linear_model import LogisticRegression\n",
    "from sklearn.svm import SVC\n",
    "\n",
    "parameters_br = [\n",
    "    {\n",
    "        'classifier': [LogisticRegression()],\n",
    "        'classifier__C': [0.1, 1, 10],\n",
    "    },\n",
    "    {\n",
    "        'classifier': [SVC()],\n",
    "        'classifier__kernel': ['rbf', 'linear'],\n",
    "    },\n",
    "]\n",
    "\n",
    "score_br = 'f1_weighted'\n",
    "\n",
    "model_br = GridSearchCV(BinaryRelevance(), parameters_br, scoring=score_br)\n",
    "\n",
    "model_br.fit(reduced_val_feats_PCA, reduced_val_labels)"
   ]
  },
  {
   "cell_type": "code",
   "execution_count": null,
   "id": "7eb48eb2",
   "metadata": {},
   "outputs": [],
   "source": [
    "print (model_br.best_params_, model_br.best_score_)"
   ]
  },
  {
   "cell_type": "markdown",
   "id": "2f9f7bff",
   "metadata": {},
   "source": [
    "#### Multi-label KNN classifier with hyper-parameter estimation using val data\n",
    "\n",
    "MLkNN builds uses k-NearestNeighbors find nearest examples to a test class and uses Bayesian inference to select assigned labels.\n",
    "\n",
    "It estimates one multi-class subclassifier - works when distance between samples is a good predictor for label assignment.\n",
    "\n",
    "ref: $\\textit{ML-KNN: A lazy learning approach to multi-label learning, Zhang et al.}$\n",
    "\n",
    "The hyper parameters to tune here are k (number of neighbours of each input instance to take into account) and s (smoothing parameter)."
   ]
  },
  {
   "cell_type": "code",
   "execution_count": 47,
   "id": "3267dd3e",
   "metadata": {},
   "outputs": [
    {
     "data": {
      "text/plain": [
       "GridSearchCV(estimator=MLkNN(),\n",
       "             param_grid={'k': range(1, 5), 's': [0.5, 0.7, 1.0]},\n",
       "             scoring='f1_weighted')"
      ]
     },
     "execution_count": 47,
     "metadata": {},
     "output_type": "execute_result"
    }
   ],
   "source": [
    "from skmultilearn.adapt import MLkNN\n",
    "from sklearn.model_selection import GridSearchCV\n",
    "\n",
    "parameters_knn = {'k': range(1,5), 's': [0.5, 0.7, 1.0]}\n",
    "\n",
    "score_knn = 'f1_weighted'\n",
    "\n",
    "model_knn = GridSearchCV(MLkNN(), parameters_knn, scoring=score_knn)\n",
    "model_knn.fit(reduced_val_feats_PCA, reduced_val_labels)"
   ]
  },
  {
   "cell_type": "code",
   "execution_count": 48,
   "id": "b44fb65a",
   "metadata": {},
   "outputs": [
    {
     "name": "stdout",
     "output_type": "stream",
     "text": [
      "{'k': 1, 's': 0.5} 0.48975054602967044\n"
     ]
    }
   ],
   "source": [
    "print (model_knn.best_params_, model_knn.best_score_)"
   ]
  },
  {
   "cell_type": "markdown",
   "id": "78736c28",
   "metadata": {},
   "source": [
    "#### Twin multi-Label Support Vector Machines with hyper-parameter estimation using val data\n",
    "\n",
    "MLTSVM determines multiple nonparallel hyperplanes to capture the multi-label information embedded in data, which is a useful promotion of twin support vector machine (TWSVM) for multi-label classification. \n",
    "\n",
    "It estimates one multi-label SVM subclassifier without any one-vs-all or one-vs-rest comparisons, O(1) classifiers instead of O(l^2). - works when distance between samples is a good predictor for label assignment.\n",
    "\n",
    "ref:  $\\textit{MLTSVM: A novel twin support vector machine to multi-label learning, Chen et al.}$\n",
    "\n",
    "The hyper parameter to tune here is c_k (the empirical risk penalty parameter that determines the trade-off between the loss terms)."
   ]
  },
  {
   "cell_type": "code",
   "execution_count": null,
   "id": "edf98734",
   "metadata": {
    "scrolled": true
   },
   "outputs": [],
   "source": [
    "from skmultilearn.adapt import MLTSVM\n",
    "\n",
    "parameters_svm = {'c_k': [2**i for i in range(-5, 5, 2)]}\n",
    "score_svm = 'f1_macro'\n",
    "\n",
    "model_svm = GridSearchCV(MLTSVM(), parameters_svm, scoring=score_svm)\n",
    "model_svm.fit(sparse.csr_matrix(reduced_val_feats_PCA), sparse.csr_matrix(reduced_val_labels)) # input is only sparce matrices"
   ]
  },
  {
   "cell_type": "code",
   "execution_count": null,
   "id": "c88e9e59",
   "metadata": {},
   "outputs": [],
   "source": [
    "print (model_svm.best_params_, model_svm.best_score_)"
   ]
  },
  {
   "cell_type": "markdown",
   "id": "09d84f7f",
   "metadata": {},
   "source": [
    "Running this grid search takes a very long time so I decided agaisnt it this time due to time and computational constraints. I would be inetresting to see the output!\n",
    "\n",
    "According to the models I tested, the Multi-label KNN classifier with one neighbour and s=0.5 gave the best f1 weighted score which is what was expected since the binary relevance method is label relationship agnostic. The computed f1 score is also comparable to the f1 score obtained in the node2vec paper for PPI data (they used f1 macro which ignores label imbalances). "
   ]
  },
  {
   "cell_type": "markdown",
   "id": "7212293d",
   "metadata": {},
   "source": [
    "#### Training and Evaluation \n",
    "\n",
    "There are several evaluation metrics that are used for milti-label problems. The main metrics are the hamming loss which measures how well the classifier predicts each of the labels, averaged over samples, then over labels and the F1 score which measures a weighted average of precision and recall, where both have the same impact on the score. I use the weighted f1 score which calculates metrics for each label, and finds their average weighted by their support, which helps with label imbalance. These are the scores we consider here (even though there are many more).\n",
    "\n",
    "ref: $\\textit{Multi-Label Classification: An Overview, Tsoumakas et al}$\n",
    "\n",
    "I am choosing to train the MLkNN model due to the highest f1 weighted score obtained as well as being very fast. I decided to run the binary relevance again but it has taken an extremely long time so i ended the computation but from a previous run, the f1 score was lower than that of MLkNN. We can now train MLkNN on the training data:"
   ]
  },
  {
   "cell_type": "code",
   "execution_count": 35,
   "id": "df07c39e",
   "metadata": {},
   "outputs": [
    {
     "data": {
      "text/plain": [
       "MLkNN(k=1, s=0.5)"
      ]
     },
     "execution_count": 35,
     "metadata": {},
     "output_type": "execute_result"
    }
   ],
   "source": [
    "from skmultilearn.adapt import MLkNN\n",
    "\n",
    "\n",
    "classifier = MLkNN(k=1,s=0.5)\n",
    "\n",
    "# train\n",
    "classifier.fit(reduced_train_feats_PCA, reduced_train_labels)"
   ]
  },
  {
   "cell_type": "code",
   "execution_count": 37,
   "id": "1ca0cc38",
   "metadata": {},
   "outputs": [],
   "source": [
    "# predict\n",
    "predictions = classifier.predict(reduced_test_feats_PCA)\n",
    "predictions.todense()"
   ]
  },
  {
   "cell_type": "code",
   "execution_count": 46,
   "id": "f622ad94",
   "metadata": {},
   "outputs": [
    {
     "name": "stdout",
     "output_type": "stream",
     "text": [
      "Hamming loss: 0.2962074583635047\n",
      "F1-weighted score: 0.5041589593763145\n"
     ]
    }
   ],
   "source": [
    "# Compute metrics\n",
    "import sklearn.metrics as metrics\n",
    "\n",
    "print('Hamming loss:', metrics.hamming_loss(reduced_test_labels, predictions))\n",
    "print('F1-weighted score:', metrics.f1_score(reduced_test_labels, predictions, average = 'weighted'))"
   ]
  },
  {
   "cell_type": "code",
   "execution_count": 51,
   "id": "7242460d",
   "metadata": {},
   "outputs": [],
   "source": [
    "# saving pre-trained model\n",
    "Pkl_Filename = \"Pickle_MLkNN_Model.pkl\"  \n",
    "\n",
    "with open(Pkl_Filename, 'wb') as file:  \n",
    "    pickle.dump(classifier, file)"
   ]
  },
  {
   "cell_type": "markdown",
   "id": "fdffc3f0",
   "metadata": {},
   "source": [
    "These scores are actually not bad considering the scores presented in literature such as in the node2vec paper where they report f1 scores in the 0.25-0.4 range. Now we can invert the label space reducion and evaluate the results again,  have run out of time here but I have put the function for this below."
   ]
  },
  {
   "cell_type": "code",
   "execution_count": null,
   "id": "d2ddb14e",
   "metadata": {},
   "outputs": [],
   "source": [
    "full_predicted = np.insert(predictions,inx_unique, predictions[np.unique(inx[0])])"
   ]
  },
  {
   "cell_type": "code",
   "execution_count": null,
   "id": "9011b317",
   "metadata": {},
   "outputs": [],
   "source": []
  }
 ],
 "metadata": {
  "kernelspec": {
   "display_name": "Python 3 (ipykernel)",
   "language": "python",
   "name": "python3"
  },
  "language_info": {
   "codemirror_mode": {
    "name": "ipython",
    "version": 3
   },
   "file_extension": ".py",
   "mimetype": "text/x-python",
   "name": "python",
   "nbconvert_exporter": "python",
   "pygments_lexer": "ipython3",
   "version": "3.7.6"
  }
 },
 "nbformat": 4,
 "nbformat_minor": 5
}
